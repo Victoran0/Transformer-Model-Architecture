{
 "cells": [
  {
   "cell_type": "code",
   "execution_count": 2,
   "metadata": {},
   "outputs": [],
   "source": [
    "import torch\n",
    "import torch.nn as nn"
   ]
  },
  {
   "cell_type": "code",
   "execution_count": 26,
   "metadata": {},
   "outputs": [
    {
     "data": {
      "text/plain": [
       "torch.Size([4, 8, 2])"
      ]
     },
     "execution_count": 26,
     "metadata": {},
     "output_type": "execute_result"
    }
   ],
   "source": [
    "torch.manual_seed(1337)\n",
    "B,T,C = 4,8,2 # batch, time, channels\n",
    "x = torch.randn(B,T,C)\n",
    "x.shape"
   ]
  },
  {
   "cell_type": "code",
   "execution_count": null,
   "metadata": {},
   "outputs": [],
   "source": []
  },
  {
   "cell_type": "code",
   "execution_count": 70,
   "metadata": {},
   "outputs": [],
   "source": [
    "d2 = torch.tensor([[[1,2,3], [1,2,3], [1,2,3]], [[3,2,1], [3,2,1], [3,2,1]]])"
   ]
  },
  {
   "cell_type": "code",
   "execution_count": null,
   "metadata": {},
   "outputs": [],
   "source": []
  },
  {
   "cell_type": "code",
   "execution_count": 61,
   "metadata": {},
   "outputs": [],
   "source": [
    "d2 = torch.tril(d2)"
   ]
  },
  {
   "cell_type": "code",
   "execution_count": 71,
   "metadata": {},
   "outputs": [
    {
     "data": {
      "text/plain": [
       "tensor([[[1, 2, 3],\n",
       "         [1, 2, 3],\n",
       "         [1, 2, 3]],\n",
       "\n",
       "        [[3, 2, 1],\n",
       "         [3, 2, 1],\n",
       "         [3, 2, 1]]])"
      ]
     },
     "execution_count": 71,
     "metadata": {},
     "output_type": "execute_result"
    }
   ],
   "source": [
    "d2"
   ]
  },
  {
   "cell_type": "code",
   "execution_count": 73,
   "metadata": {},
   "outputs": [
    {
     "data": {
      "text/plain": [
       "torch.Size([2, 3, 3])"
      ]
     },
     "execution_count": 73,
     "metadata": {},
     "output_type": "execute_result"
    }
   ],
   "source": [
    "d2.shape"
   ]
  },
  {
   "cell_type": "code",
   "execution_count": 77,
   "metadata": {},
   "outputs": [
    {
     "data": {
      "text/plain": [
       "tensor([[[1, 2, 3],\n",
       "         [3, 2, 1]],\n",
       "\n",
       "        [[1, 2, 3],\n",
       "         [3, 2, 1]],\n",
       "\n",
       "        [[1, 2, 3],\n",
       "         [3, 2, 1]]])"
      ]
     },
     "execution_count": 77,
     "metadata": {},
     "output_type": "execute_result"
    }
   ],
   "source": [
    "d2.transpose(-2,-3)"
   ]
  },
  {
   "cell_type": "code",
   "execution_count": 76,
   "metadata": {},
   "outputs": [
    {
     "data": {
      "text/plain": [
       "torch.Size([2, 3, 3])"
      ]
     },
     "execution_count": 76,
     "metadata": {},
     "output_type": "execute_result"
    }
   ],
   "source": [
    "d2.transpose(-2,-1).shape"
   ]
  },
  {
   "cell_type": "code",
   "execution_count": 37,
   "metadata": {},
   "outputs": [],
   "source": [
    "avg = d2 / d2.sum(1, keepdim=True)"
   ]
  },
  {
   "cell_type": "code",
   "execution_count": 39,
   "metadata": {},
   "outputs": [
    {
     "data": {
      "text/plain": [
       "tensor([[1.0000, 0.0000, 0.0000],\n",
       "        [0.3333, 0.6667, 0.0000],\n",
       "        [0.1667, 0.3333, 0.5000]])"
      ]
     },
     "execution_count": 39,
     "metadata": {},
     "output_type": "execute_result"
    }
   ],
   "source": [
    "avg"
   ]
  },
  {
   "cell_type": "code",
   "execution_count": 84,
   "metadata": {},
   "outputs": [
    {
     "data": {
      "text/plain": [
       "tensor([0, 1])"
      ]
     },
     "execution_count": 84,
     "metadata": {},
     "output_type": "execute_result"
    }
   ],
   "source": [
    "torch.arange(2)"
   ]
  },
  {
   "cell_type": "code",
   "execution_count": 103,
   "metadata": {},
   "outputs": [],
   "source": [
    "class Mone(nn.Module):\n",
    "    def __init__(self, i1):\n",
    "        super().__init__()\n",
    "        self.l1 = nn.Linear(i1, i1*i1)\n",
    "\n",
    "\n",
    "    def forward(self, num):\n",
    "        print('its gone')\n",
    "        x = self.l1(num)\n",
    "        return x\n",
    "    \n",
    "my_tensor = torch.tensor([2, 4], dtype=torch.float32)"
   ]
  },
  {
   "cell_type": "code",
   "execution_count": 104,
   "metadata": {},
   "outputs": [
    {
     "data": {
      "text/plain": [
       "tensor([2., 4.])"
      ]
     },
     "execution_count": 104,
     "metadata": {},
     "output_type": "execute_result"
    }
   ],
   "source": [
    "my_tensor"
   ]
  },
  {
   "cell_type": "code",
   "execution_count": 105,
   "metadata": {},
   "outputs": [],
   "source": [
    "the_tensor = Mone(2)"
   ]
  },
  {
   "cell_type": "code",
   "execution_count": 106,
   "metadata": {},
   "outputs": [
    {
     "name": "stdout",
     "output_type": "stream",
     "text": [
      "its gone\n"
     ]
    },
    {
     "data": {
      "text/plain": [
       "tensor([-2.7963, -1.9720,  1.0938, -2.6179], grad_fn=<ViewBackward0>)"
      ]
     },
     "execution_count": 106,
     "metadata": {},
     "output_type": "execute_result"
    },
    {
     "ename": "",
     "evalue": "",
     "output_type": "error",
     "traceback": [
      "\u001b[1;31mThe Kernel crashed while executing code in the current cell or a previous cell. \n",
      "\u001b[1;31mPlease review the code in the cell(s) to identify a possible cause of the failure. \n",
      "\u001b[1;31mClick <a href='https://aka.ms/vscodeJupyterKernelCrash'>here</a> for more info. \n",
      "\u001b[1;31mView Jupyter <a href='command:jupyter.viewOutput'>log</a> for further details."
     ]
    }
   ],
   "source": [
    "the_tensor(my_tensor)"
   ]
  },
  {
   "cell_type": "code",
   "execution_count": 86,
   "metadata": {},
   "outputs": [
    {
     "name": "stdout",
     "output_type": "stream",
     "text": [
      "M1(\n",
      "  (l1): Linear(in_features=10, out_features=100, bias=True)\n",
      ")\n",
      "tensor([[ 1.2093,  1.0676, -2.0264, -0.4742, -0.0475,  0.3225,  0.0420,  1.7482,\n",
      "         -0.1257, -0.1808]])\n",
      "M1:forward\n",
      "torch.Size([1, 100])\n"
     ]
    }
   ],
   "source": [
    "class M1(nn.Module):\n",
    "    ''' \n",
    "    Single linear layer\n",
    "    '''\n",
    "\n",
    "    def __init__(self):\n",
    "        super().__init__()\n",
    "        self.l1 = nn.Linear(10, 100)\n",
    "\n",
    "    def forward(self, x):\n",
    "        print(\"M1:forward\")\n",
    "        x = self.l1(x)\n",
    "        return x\n",
    "\n",
    "\n",
    "# we create a module instance m1\n",
    "m1 = M1()\n",
    "print(m1)\n",
    "inp = torch.randn(1, 10)\n",
    "print(inp)\n",
    "r = m1(inp)  # result\n",
    "print(r.shape)"
   ]
  },
  {
   "cell_type": "code",
   "execution_count": 87,
   "metadata": {},
   "outputs": [
    {
     "data": {
      "text/plain": [
       "tensor([[-0.3890, -0.7838,  0.5642,  0.9728, -0.4729,  0.0906,  0.6972,  0.0793,\n",
       "         -0.4036, -0.0558, -1.3890,  0.5839, -0.4040,  0.1676, -1.0640,  0.1324,\n",
       "         -0.3555,  0.0673, -0.7938, -0.3807, -0.2825, -0.1546,  0.6281, -0.3046,\n",
       "         -0.0946, -0.6435, -0.6009, -0.3735,  0.0534,  0.0581, -0.4293, -0.7381,\n",
       "         -0.8027,  0.3812,  0.2488, -0.8846,  0.5438,  0.6906,  0.5199, -0.0324,\n",
       "         -0.2061, -0.0817, -0.2379, -0.5435,  0.1194,  0.2301,  0.1211,  0.4479,\n",
       "         -0.8238, -0.0811, -0.5348, -1.0123, -0.8659, -0.1135,  0.3099,  0.2140,\n",
       "          0.7209,  0.7442, -0.6255, -0.7279,  1.0077,  0.2894, -0.4307, -0.5398,\n",
       "         -1.1964,  0.6348, -0.2360,  0.0687, -0.0623,  0.3781, -0.7467,  0.6173,\n",
       "         -0.6074, -0.6415,  0.3222,  0.6443,  0.2297,  0.8406,  1.5407,  0.6710,\n",
       "          0.3854, -0.6731, -0.3658, -0.1481,  0.4379, -0.2012, -0.7549,  0.5524,\n",
       "         -1.1007, -0.0160, -0.1152, -0.1213, -0.8799, -0.3377,  0.4970,  0.6915,\n",
       "         -0.1714, -0.1674,  1.2209,  0.5967]], grad_fn=<AddmmBackward0>)"
      ]
     },
     "execution_count": 87,
     "metadata": {},
     "output_type": "execute_result"
    }
   ],
   "source": [
    "r"
   ]
  }
 ],
 "metadata": {
  "kernelspec": {
   "display_name": "Python 3",
   "language": "python",
   "name": "python3"
  },
  "language_info": {
   "codemirror_mode": {
    "name": "ipython",
    "version": 3
   },
   "file_extension": ".py",
   "mimetype": "text/x-python",
   "name": "python",
   "nbconvert_exporter": "python",
   "pygments_lexer": "ipython3",
   "version": "3.10.5"
  }
 },
 "nbformat": 4,
 "nbformat_minor": 2
}
